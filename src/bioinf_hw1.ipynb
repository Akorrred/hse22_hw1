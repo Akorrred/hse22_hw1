{
 "cells": [
  {
   "cell_type": "code",
   "execution_count": 22,
   "id": "4411c377",
   "metadata": {},
   "outputs": [
    {
     "name": "stdout",
     "output_type": "stream",
     "text": [
      "Общее количество контигов: 621\n",
      "Общая длина контигов: 3939274\n",
      "Длина самого длинного контига: 158317\n",
      "N50: 51611\n"
     ]
    }
   ],
   "source": [
    "contigs = open('/Users/andreykornev/bioinf/Poil_contig.fa').read().splitlines()\n",
    "num = 0\n",
    "total = 0\n",
    "longest = 0\n",
    "current = 0\n",
    "lens = []\n",
    "for i in range(0, len(contigs)):\n",
    "    if contigs[i][0] == '>':\n",
    "        if num > 0:\n",
    "                lens.append(current)\n",
    "        num += 1\n",
    "        if current > longest:\n",
    "            longest = current\n",
    "        current = 0\n",
    "    total += len(contigs[i])\n",
    "    current += len(contigs[i]) \n",
    "print('Общее количество контигов:', num)\n",
    "print('Общая длина контигов:', total)\n",
    "print('Длина самого длинного контига:', longest)\n",
    "\n",
    "cur_sum = 0\n",
    "lens.sort(reverse = True) \n",
    "for i in lens:\n",
    "    cur_sum += i\n",
    "    if cur_sum >= total / 2:\n",
    "        print('N50:', i)\n",
    "        break"
   ]
  },
  {
   "cell_type": "code",
   "execution_count": 56,
   "id": "3b1c2fd4",
   "metadata": {},
   "outputs": [
    {
     "name": "stdout",
     "output_type": "stream",
     "text": [
      "Общее количество скаффолдов: 72\n",
      "Общая длина скаффолдов: 3878929\n",
      "Длина самого длинного скаффолда: 3832290\n"
     ]
    }
   ],
   "source": [
    "scaffolds = open('/Users/andreykornev/bioinf/Poil_scaffold.fa').read().splitlines()\n",
    "num = 0\n",
    "total = 0\n",
    "longest = 0\n",
    "current = 0\n",
    "lens = []\n",
    "longest_id = 0\n",
    "longest_scaffold = ''\n",
    "current_scaffold = ''\n",
    "for i in range(len(scaffolds)):\n",
    "    if scaffolds[i][0] == '>':\n",
    "        if num > 0:\n",
    "                lens.append(current)\n",
    "        num += 1\n",
    "        if current > longest:\n",
    "            longest = current\n",
    "            longest_scaffold = current_scaffold\n",
    "        current = 0\n",
    "        current_scaffold = ''\n",
    "    current_scaffold += scaffolds[i]\n",
    "    total += len(scaffolds[i])\n",
    "    current += len(scaffolds[i]) \n",
    "print('Общее количество скаффолдов:', num)\n",
    "print('Общая длина скаффолдов:', total)\n",
    "print('Длина самого длинного скаффолда:', longest)\n",
    "assert longest == len(longest_scaffold)"
   ]
  },
  {
   "cell_type": "code",
   "execution_count": 66,
   "id": "73a90c2f",
   "metadata": {},
   "outputs": [
    {
     "name": "stdout",
     "output_type": "stream",
     "text": [
      "Количество гэпов: 61\n",
      "Общая длина гэпов: 6502\n"
     ]
    }
   ],
   "source": [
    "num_of_gaps = 0\n",
    "total_len_of_gaps = 0\n",
    "current_gap = 0\n",
    "for i in range(len(longest_scaffold)):\n",
    "    if longest_scaffold[i] == 'N':\n",
    "        total_len_of_gaps += 1\n",
    "    if longest_scaffold[i] != 'N' and longest_scaffold[i - 1] == 'N':\n",
    "        num_of_gaps += 1\n",
    "print('Количество гэпов:', num_of_gaps)\n",
    "print('Общая длина гэпов:', total_len_of_gaps)"
   ]
  },
  {
   "cell_type": "code",
   "execution_count": 67,
   "id": "4b252f6f",
   "metadata": {},
   "outputs": [],
   "source": [
    "scaffolds = open('/Users/andreykornev/bioinf/Poil_gapClosed.fa').read().splitlines()\n",
    "num = 0\n",
    "total = 0\n",
    "longest = 0\n",
    "current = 0\n",
    "longest_id = 0\n",
    "longest_scaffold = ''\n",
    "current_scaffold = ''\n",
    "for i in range(len(scaffolds)):\n",
    "    if scaffolds[i][0] == '>':\n",
    "        num += 1\n",
    "        if current > longest:\n",
    "            longest = current\n",
    "            longest_scaffold = current_scaffold\n",
    "        current = 0\n",
    "        current_scaffold = ''\n",
    "    current_scaffold += scaffolds[i]\n",
    "    total += len(scaffolds[i])\n",
    "    current += len(scaffolds[i]) \n",
    "assert longest == len(longest_scaffold)"
   ]
  },
  {
   "cell_type": "code",
   "execution_count": 68,
   "id": "cb6a626a",
   "metadata": {},
   "outputs": [
    {
     "name": "stdout",
     "output_type": "stream",
     "text": [
      "Количество гэпов: 8\n",
      "Общая длина гэпов: 1343\n"
     ]
    }
   ],
   "source": [
    "num_of_gaps = 0\n",
    "total_len_of_gaps = 0\n",
    "current_gap = 0\n",
    "for i in range(len(longest_scaffold)):\n",
    "    if longest_scaffold[i] == 'N':\n",
    "        total_len_of_gaps += 1\n",
    "    if longest_scaffold[i] != 'N' and longest_scaffold[i - 1] == 'N':\n",
    "        num_of_gaps += 1\n",
    "print('Количество гэпов:', num_of_gaps)\n",
    "print('Общая длина гэпов:', total_len_of_gaps)"
   ]
  },
  {
   "cell_type": "code",
   "execution_count": null,
   "id": "aed493c2",
   "metadata": {},
   "outputs": [],
   "source": []
  }
 ],
 "metadata": {
  "kernelspec": {
   "display_name": "Python 3",
   "language": "python",
   "name": "python3"
  },
  "language_info": {
   "codemirror_mode": {
    "name": "ipython",
    "version": 3
   },
   "file_extension": ".py",
   "mimetype": "text/x-python",
   "name": "python",
   "nbconvert_exporter": "python",
   "pygments_lexer": "ipython3",
   "version": "3.8.8"
  }
 },
 "nbformat": 4,
 "nbformat_minor": 5
}
